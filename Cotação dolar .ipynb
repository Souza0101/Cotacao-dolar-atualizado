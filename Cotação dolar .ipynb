{
 "cells": [
  {
   "cell_type": "code",
   "execution_count": 72,
   "id": "ad2dd01e",
   "metadata": {},
   "outputs": [
    {
     "name": "stdout",
     "output_type": "stream",
     "text": [
      "O dolar está 5.10\n",
      "Você tem quantos reais?50\n",
      "Você terá 9.81 dolares.\n"
     ]
    }
   ],
   "source": [
    "from selenium import webdriver\n",
    "from selenium.webdriver.common.keys import Keys\n",
    "#abrir o navegador\n",
    "navegador = webdriver.Chrome()\n",
    "#abrir o google do navegador\n",
    "navegador.get(\"Https://www.Google.com/\")\n",
    "#selecionar e escrever a barra de pesquisa do navegador e dar enter\n",
    "navegador.find_element('xpath', '/html/body/div[1]/div[3]/form/div[1]/div[1]/div[1]/div/div[2]/input').send_keys(\"cotação dolar\")\n",
    "navegador.find_element('xpath', '/html/body/div[1]/div[3]/form/div[1]/div[1]/div[1]/div/div[2]/input').send_keys(Keys.ENTER)\n",
    "cotacao_dolar = float( navegador.find_element('xpath', '//*[@id=\"knowledge-currency__updatable-data-column\"]/div[1]/div[2]/span[1]').get_attribute('data-value'))\n",
    "#saida\n",
    "print(f\"\"\"O dolar está {cotacao_dolar:,.2f}\"\"\")\n",
    "navegador.quit()\n",
    "real = float (input(\"Você tem quantos reais?\"))\n",
    "dolar = real/cotacao_dolar\n",
    "print(f\"\"\"Você terá {dolar:,.2f} dolares.\"\"\")"
   ]
  }
 ],
 "metadata": {
  "kernelspec": {
   "display_name": "Python 3 (ipykernel)",
   "language": "python",
   "name": "python3"
  },
  "language_info": {
   "codemirror_mode": {
    "name": "ipython",
    "version": 3
   },
   "file_extension": ".py",
   "mimetype": "text/x-python",
   "name": "python",
   "nbconvert_exporter": "python",
   "pygments_lexer": "ipython3",
   "version": "3.9.13"
  }
 },
 "nbformat": 4,
 "nbformat_minor": 5
}
